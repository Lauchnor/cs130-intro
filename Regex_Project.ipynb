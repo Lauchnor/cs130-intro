{
  "nbformat": 4,
  "nbformat_minor": 0,
  "metadata": {
    "colab": {
      "provenance": [],
      "authorship_tag": "ABX9TyOMVTfm7QgXdS3VZexECv9U",
      "include_colab_link": true
    },
    "kernelspec": {
      "name": "python3",
      "display_name": "Python 3"
    },
    "language_info": {
      "name": "python"
    }
  },
  "cells": [
    {
      "cell_type": "markdown",
      "metadata": {
        "id": "view-in-github",
        "colab_type": "text"
      },
      "source": [
        "<a href=\"https://colab.research.google.com/github/Lauchnor/cs130-intro/blob/main/Regex_Project.ipynb\" target=\"_parent\"><img src=\"https://colab.research.google.com/assets/colab-badge.svg\" alt=\"Open In Colab\"/></a>"
      ]
    },
    {
      "cell_type": "code",
      "execution_count": 1,
      "metadata": {
        "id": "Cd6pq1PMuiIK"
      },
      "outputs": [],
      "source": [
        "import urllib.request\n",
        "hand = urllib.request.urlopen('https://en.wikipedia.org/wiki/Albert_Einstein')\n",
        "for line in hand:\n",
        "    line = line.decode().strip()"
      ]
    }
  ]
}