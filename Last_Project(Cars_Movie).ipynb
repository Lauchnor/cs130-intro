{
  "nbformat": 4,
  "nbformat_minor": 0,
  "metadata": {
    "colab": {
      "provenance": [],
      "authorship_tag": "ABX9TyNqu27R3CsSq176gU9bOGg+",
      "include_colab_link": true
    },
    "kernelspec": {
      "name": "python3",
      "display_name": "Python 3"
    },
    "language_info": {
      "name": "python"
    }
  },
  "cells": [
    {
      "cell_type": "markdown",
      "metadata": {
        "id": "view-in-github",
        "colab_type": "text"
      },
      "source": [
        "<a href=\"https://colab.research.google.com/github/Lauchnor/cs130-intro/blob/main/Last_Project(Cars_Movie).ipynb\" target=\"_parent\"><img src=\"https://colab.research.google.com/assets/colab-badge.svg\" alt=\"Open In Colab\"/></a>"
      ]
    },
    {
      "cell_type": "code",
      "execution_count": 12,
      "metadata": {
        "colab": {
          "base_uri": "https://localhost:8080/"
        },
        "id": "slQPejG69n7d",
        "outputId": "32fe6575-5a9f-42a7-ba6c-0cf52d3a0aad"
      },
      "outputs": [
        {
          "output_type": "stream",
          "name": "stdout",
          "text": [
            "Ka-chow is mentioned 15 times.\n",
            "Mater is mentioned 46 times.\n"
          ]
        }
      ],
      "source": [
        "with open(\"Cars-2006.txt\", \"r\") as f:\n",
        "  text = f.read()\n",
        "\n",
        "import re\n",
        "\n",
        "ka_chow_count = len(re.findall(\"Ka-chow\", text))\n",
        "print(\"Ka-chow is mentioned\", ka_chow_count, \"times.\")\n",
        "\n",
        "mater_count = len(re.findall(\"Mater\", text))\n",
        "print(\"Mater is mentioned\", mater_count, \"times.\")"
      ]
    }
  ]
}